{
 "cells": [
  {
   "cell_type": "code",
   "execution_count": null,
   "id": "243a7123",
   "metadata": {},
   "outputs": [],
   "source": [
    "# from finn.util.visualization import showInNetron\n",
    "# showInNetron(\"output_mobilenetw5a5_ZCU102/intermediate_models/step_create_dataflow_partition.onnx\")"
   ]
  },
  {
   "cell_type": "code",
   "execution_count": null,
   "id": "107c297b",
   "metadata": {},
   "outputs": [],
   "source": [
    "# showInNetron(\"../cnv_small_build/output_driver/intermediate_models/step_convert_to_hls.onnx\")"
   ]
  },
  {
   "cell_type": "code",
   "execution_count": null,
   "id": "764d8a6e",
   "metadata": {},
   "outputs": [],
   "source": [
    "# showInNetron(\"end2end_mobilenet_tidy.onnx\")"
   ]
  },
  {
   "cell_type": "code",
   "execution_count": 64,
   "id": "48d07ce9",
   "metadata": {},
   "outputs": [],
   "source": [
    "import finn.builder.build_dataflow as build\n",
    "import finn.builder.build_dataflow_config as build_cfg\n",
    "from finn.util.basic import alveo_default_platform\n",
    "import os\n",
    "import shutil"
   ]
  },
  {
   "cell_type": "code",
   "execution_count": 65,
   "id": "f7dc509c",
   "metadata": {},
   "outputs": [],
   "source": [
    "from custom_steps import (\n",
    "    step_mobilenet_streamline,\n",
    "    step_mobilenet_convert_to_hls_layers,\n",
    "    step_mobilenet_convert_to_hls_layers_separate_th,\n",
    "    step_mobilenet_lower_convs,\n",
    "    step_mobilenet_slr_floorplan,\n",
    ")"
   ]
  },
  {
   "cell_type": "code",
   "execution_count": 66,
   "id": "6c0d8450",
   "metadata": {},
   "outputs": [],
   "source": [
    "def select_build_steps():\n",
    "    return [\n",
    "        step_mobilenet_streamline,\n",
    "        step_mobilenet_lower_convs,\n",
    "        step_mobilenet_convert_to_hls_layers_separate_th,\n",
    "        \"step_create_dataflow_partition\",\n",
    "        \"step_apply_folding_config\",\n",
    "        \"step_generate_estimate_reports\",\n",
    "        \"step_hls_codegen\",\n",
    "        \"step_hls_ipgen\",\n",
    "        \"step_set_fifo_depths\",\n",
    "        \"step_create_stitched_ip\",\n",
    "        \"step_synthesize_bitfile\",\n",
    "        \"step_make_pynq_driver\",\n",
    "        \"step_deployment_package\",\n",
    "    ]"
   ]
  },
  {
   "cell_type": "code",
   "execution_count": 79,
   "id": "f1a48709",
   "metadata": {},
   "outputs": [],
   "source": [
    "# build driver\n",
    "model_name=\"end2end_good_mobilenet2_wopepro_top1_tidy\"\n",
    "platform_name=\"ZCU102\"\n",
    "model_file = \"end2end_good_mobilenet2_wopepro_top1_tidy.onnx\"\n",
    "\n",
    "# ZCU102_mobilenet_ready_folding_config\n",
    "\n",
    "cfg = build_cfg.DataflowBuildConfig(\n",
    "        steps=select_build_steps(),\n",
    "        output_dir=\"output_%s_%s\" % (model_name, platform_name),\n",
    "        folding_config_file=\"ZCU102_mobilenet_ready_folding_config.json\",\n",
    "        synth_clk_period_ns=5.4,\n",
    "        board = \"ZCU102\",\n",
    "        # folding config comes with FIFO depths already\n",
    "        auto_fifo_depths=False,\n",
    "        shell_flow_type=build_cfg.ShellFlowType.VIVADO_ZYNQ,\n",
    "        generate_outputs=[\n",
    "            build_cfg.DataflowOutputType.PYNQ_DRIVER,\n",
    "            build_cfg.DataflowOutputType.ESTIMATE_REPORTS,\n",
    "            build_cfg.DataflowOutputType.BITFILE,\n",
    "            build_cfg.DataflowOutputType.DEPLOYMENT_PACKAGE,\n",
    "        ],\n",
    "    )"
   ]
  },
  {
   "cell_type": "code",
   "execution_count": 80,
   "id": "e96b0219",
   "metadata": {},
   "outputs": [
    {
     "name": "stdout",
     "output_type": "stream",
     "text": [
      "Building dataflow accelerator from end2end_good_mobilenet2_wopepro_top1_tidy.onnx\n",
      "Intermediate outputs will be generated in /media/nvme/tmp\n",
      "Final outputs will be generated in output_end2end_good_mobilenet2_wopepro_top1_tidy_ZCU102\n",
      "Build log is at output_end2end_good_mobilenet2_wopepro_top1_tidy_ZCU102/build_dataflow.log\n",
      "Running step: step_mobilenet_streamline [1/13]\n",
      "Running step: step_mobilenet_lower_convs [2/13]\n",
      "Running step: step_mobilenet_convert_to_hls_layers_separate_th [3/13]\n",
      "Running step: step_create_dataflow_partition [4/13]\n",
      "Running step: step_apply_folding_config [5/13]\n",
      "Running step: step_generate_estimate_reports [6/13]\n",
      "Running step: step_hls_codegen [7/13]\n",
      "Running step: step_hls_ipgen [8/13]\n",
      "Running step: step_set_fifo_depths [9/13]\n",
      "Running step: step_create_stitched_ip [10/13]\n",
      "Running step: step_synthesize_bitfile [11/13]\n",
      "Running step: step_make_pynq_driver [12/13]\n",
      "Running step: step_deployment_package [13/13]\n",
      "Completed successfully\n",
      "CPU times: user 3min 3s, sys: 2.16 s, total: 3min 6s\n",
      "Wall time: 3h 4min 40s\n"
     ]
    },
    {
     "data": {
      "text/plain": [
       "0"
      ]
     },
     "execution_count": 80,
     "metadata": {},
     "output_type": "execute_result"
    }
   ],
   "source": [
    "%%time\n",
    "build.build_dataflow_cfg(model_file, cfg)"
   ]
  },
  {
   "cell_type": "code",
   "execution_count": null,
   "id": "a2f10d30",
   "metadata": {},
   "outputs": [],
   "source": [
    "# make archieve of the driver"
   ]
  },
  {
   "cell_type": "code",
   "execution_count": 81,
   "id": "36c90e98",
   "metadata": {},
   "outputs": [
    {
     "data": {
      "text/plain": [
       "'/workspace/finn/notebooks/mobilenet/deploy-good-mobilenet-woprepro-top1-2bit-on-pynq.zip'"
      ]
     },
     "execution_count": 81,
     "metadata": {},
     "output_type": "execute_result"
    }
   ],
   "source": [
    "from shutil import make_archive\n",
    "make_archive('deploy-good-mobilenet-woprepro-top1-2bit-on-pynq', 'zip', \"output_end2end_good_mobilenet2_wopepro_top1_tidy_ZCU102\"+\"/deploy\")"
   ]
  }
 ],
 "metadata": {
  "kernelspec": {
   "display_name": "Python 3 (ipykernel)",
   "language": "python",
   "name": "python3"
  },
  "language_info": {
   "codemirror_mode": {
    "name": "ipython",
    "version": 3
   },
   "file_extension": ".py",
   "mimetype": "text/x-python",
   "name": "python",
   "nbconvert_exporter": "python",
   "pygments_lexer": "ipython3",
   "version": "3.8.8"
  }
 },
 "nbformat": 4,
 "nbformat_minor": 5
}
