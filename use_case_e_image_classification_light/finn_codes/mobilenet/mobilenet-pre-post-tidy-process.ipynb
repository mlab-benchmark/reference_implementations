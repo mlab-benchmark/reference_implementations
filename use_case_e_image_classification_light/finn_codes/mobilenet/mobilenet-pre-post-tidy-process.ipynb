{
 "cells": [
  {
   "cell_type": "code",
   "execution_count": 75,
   "id": "b3692adc",
   "metadata": {},
   "outputs": [],
   "source": [
    "# from https://github.com/Xilinx/finn/blob/bf9a67eee6ff5a797ea3a0bd866706d7518c3c6f/tests/end2end/test_end2end_mobilenet_v1.py#L102"
   ]
  },
  {
   "cell_type": "code",
   "execution_count": 83,
   "id": "9985b445",
   "metadata": {},
   "outputs": [],
   "source": [
    "from finn.custom_op.registry import getCustomOp\n",
    "from finn.util.pytorch import NormalizePreProc\n",
    "from finn.util.test import (\n",
    "    get_test_model_trained,\n",
    "    load_test_checkpoint_or_skip,\n",
    "    resize_smaller_side,\n",
    "    crop_center,\n",
    ")\n",
    "\n",
    "from finn.core.modelwrapper import ModelWrapper\n",
    "from finn.core.datatype import DataType\n",
    "\n",
    "from finn.transformation.infer_shapes import InferShapes\n",
    "from finn.transformation.infer_data_layouts import InferDataLayouts\n",
    "from finn.transformation.fold_constants import FoldConstants\n",
    "from finn.transformation.infer_datatypes import InferDataTypes\n",
    "from finn.transformation.general import (\n",
    "    GiveReadableTensorNames,\n",
    "    GiveUniqueNodeNames,\n",
    "    GiveUniqueParameterTensors,\n",
    "    RemoveUnusedTensors,\n",
    ")\n",
    "from finn.transformation.merge_onnx_models import MergeONNXModels\n",
    "from finn.transformation.insert_topk import InsertTopK\n",
    "import finn.transformation.streamline.absorb as absorb\n",
    "import finn.transformation.streamline.reorder as reorder\n",
    "from finn.transformation.streamline import Streamline\n",
    "from finn.transformation.double_to_single_float import DoubleToSingleFloat\n",
    "from finn.transformation.streamline.collapse_repeated import CollapseRepeatedMul\n",
    "from finn.transformation.change_datalayout import ChangeDataLayoutQuantAvgPool2d\n",
    "from finn.transformation.streamline.round_thresholds import RoundAndClipThresholds\n",
    "from finn.transformation.lower_convs_to_matmul import LowerConvsToMatMul\n",
    "import finn.transformation.fpgadataflow.convert_to_hls_layers as to_hls\n",
    "from finn.transformation.fpgadataflow.create_dataflow_partition import (\n",
    "    CreateDataflowPartition,\n",
    ")\n",
    "from finn.transformation.fpgadataflow.set_exec_mode import SetExecMode\n",
    "from finn.transformation.fpgadataflow.prepare_cppsim import PrepareCppSim\n",
    "from finn.transformation.fpgadataflow.compile_cppsim import CompileCppSim\n",
    "from finn.transformation.fpgadataflow.prepare_rtlsim import PrepareRTLSim\n",
    "from finn.transformation.fpgadataflow.prepare_ip import PrepareIP\n",
    "from finn.transformation.fpgadataflow.hlssynth_ip import HLSSynthIP\n",
    "from finn.transformation.fpgadataflow.replace_verilog_relpaths import (\n",
    "    ReplaceVerilogRelPaths,\n",
    ")\n",
    "from finn.transformation.fpgadataflow.annotate_resources import AnnotateResources\n",
    "from finn.transformation.fpgadataflow.set_fifo_depths import InsertAndSetFIFODepths\n",
    "from finn.core.onnx_exec import execute_onnx\n",
    "from finn.util.basic import alveo_part_map, alveo_default_platform\n",
    "from finn.util.config import extract_model_config_to_json"
   ]
  },
  {
   "cell_type": "code",
   "execution_count": 90,
   "id": "d079fbb4",
   "metadata": {},
   "outputs": [],
   "source": [
    "import onnx\n",
    "from finn.util.test import get_test_model_trained\n",
    "import brevitas.onnx as bo\n",
    "from finn.core.modelwrapper import ModelWrapper\n",
    "from finn.transformation.infer_shapes import InferShapes\n",
    "from finn.transformation.fold_constants import FoldConstants\n",
    "from finn.transformation.general import GiveReadableTensorNames, GiveUniqueNodeNames, RemoveStaticGraphInputs\n",
    "from finn.util.basic import make_build_dir\n",
    "from finn.util.visualization import showInNetron\n",
    "\n",
    "model = ModelWrapper(\"modelss/mobilenet_woprepro_woclip_sqrhint_sgd_lr1e_3_3W38I_30E20B224IMG.onnx\")\n",
    "model = model.transform(InferShapes())\n",
    "model = model.transform(FoldConstants())\n",
    "model = model.transform(GiveUniqueNodeNames())\n",
    "model = model.transform(GiveReadableTensorNames())\n",
    "model = model.transform(RemoveStaticGraphInputs())\n",
    "model.save(\"mobilenet_tidy.onnx\")\n"
   ]
  },
  {
   "cell_type": "code",
   "execution_count": 85,
   "id": "d043c3c4",
   "metadata": {},
   "outputs": [],
   "source": [
    "# adding pre-post processing"
   ]
  },
  {
   "cell_type": "code",
   "execution_count": 91,
   "id": "4847f01e",
   "metadata": {},
   "outputs": [],
   "source": [
    "from finn.util.pytorch import NormalizePreProc\n",
    "import brevitas.onnx as bo\n",
    "from finn.core.modelwrapper import ModelWrapper\n",
    "from finn.core.datatype import DataType\n",
    "from finn.transformation.infer_shapes import InferShapes\n",
    "\n",
    "\n",
    "preproc_onnx =\"end2end_mobilenet_preproc.onnx\"\n",
    "mean = [0.0, 0.0, 0.0]\n",
    "std = 1.0\n",
    "ch = 3\n",
    "preproc = NormalizePreProc(mean, std, ch)\n",
    "bo.export_finn_onnx(preproc, (1, 3, 224, 224), preproc_onnx)\n",
    "preproc_model = ModelWrapper(preproc_onnx)\n",
    "preproc_model.set_tensor_datatype(preproc_model.graph.input[0].name, DataType[\"UINT8\"])\n",
    "preproc_model = preproc_model.transform(InferShapes())\n",
    "preproc_model = preproc_model.transform(GiveUniqueNodeNames())\n",
    "preproc_model = preproc_model.transform(GiveUniqueParameterTensors())\n",
    "preproc_model = preproc_model.transform(GiveReadableTensorNames())\n",
    "preproc_model.save(\"end2end_mobilenet_preproc.onnx\")"
   ]
  },
  {
   "cell_type": "code",
   "execution_count": 92,
   "id": "a0e508f1",
   "metadata": {},
   "outputs": [
    {
     "name": "stderr",
     "output_type": "stream",
     "text": [
      "/workspace/finn-base/src/finn/transformation/infer_data_layouts.py:119: UserWarning: Assuming 4D input is NCHW\n",
      "  warnings.warn(\"Assuming 4D input is NCHW\")\n"
     ]
    }
   ],
   "source": [
    "model = model.transform(InferShapes())\n",
    "model = model.transform(FoldConstants())\n",
    "model = model.transform(InsertTopK(k=1))\n",
    "model = model.transform(absorb.AbsorbScalarMulAddIntoTopK())\n",
    "model = model.transform(InferShapes())\n",
    "model = model.transform(InferDataTypes())\n",
    "model = model.transform(InferDataLayouts())\n",
    "model = model.transform(GiveUniqueNodeNames())\n",
    "model = model.transform(GiveUniqueParameterTensors())\n",
    "model = model.transform(GiveReadableTensorNames())\n",
    "model = model.transform(MergeONNXModels(preproc_model))\n",
    "model.save(\"end2end_good_mobilenet3_wopepro_top1_tidy.onnx\")"
   ]
  },
  {
   "cell_type": "code",
   "execution_count": null,
   "id": "bdf518ad",
   "metadata": {},
   "outputs": [],
   "source": [
    "# archieve the driver file"
   ]
  },
  {
   "cell_type": "code",
   "execution_count": 82,
   "id": "acc4a7d7",
   "metadata": {},
   "outputs": [
    {
     "data": {
      "text/plain": [
       "'/workspace/finn/notebooks/mobilenet/deploy-good-cnvsmall-1bit-on-pynq.zip'"
      ]
     },
     "execution_count": 82,
     "metadata": {},
     "output_type": "execute_result"
    }
   ],
   "source": [
    "from shutil import make_archive\n",
    "make_archive('deploy-good-cnvsmall-1bit-on-pynq', 'zip', \"/workspace/finn/notebooks/cnv_small_build/cnvsmall_good_w1a1_dataflow_model\"+\"/deploy\")"
   ]
  }
 ],
 "metadata": {
  "kernelspec": {
   "display_name": "Python 3 (ipykernel)",
   "language": "python",
   "name": "python3"
  },
  "language_info": {
   "codemirror_mode": {
    "name": "ipython",
    "version": 3
   },
   "file_extension": ".py",
   "mimetype": "text/x-python",
   "name": "python",
   "nbconvert_exporter": "python",
   "pygments_lexer": "ipython3",
   "version": "3.8.8"
  }
 },
 "nbformat": 4,
 "nbformat_minor": 5
}
